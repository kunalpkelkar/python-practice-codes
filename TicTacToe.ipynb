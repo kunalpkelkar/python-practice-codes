{
 "cells": [
  {
   "cell_type": "code",
   "execution_count": 1,
   "id": "bfde7738-be85-49ef-97c7-1a6262227601",
   "metadata": {},
   "outputs": [],
   "source": [
    "# This is a sample code to play Tic-Tac-Toe\n",
    "\n",
    "# Minimax is a recursive algorithm that simulates all possible moves and chooses the best one assuming the opponent also plays optimally.\n"
   ]
  },
  {
   "cell_type": "code",
   "execution_count": 2,
   "id": "e8e295de-1e57-45de-b507-69cfd1e77ec2",
   "metadata": {},
   "outputs": [],
   "source": [
    "import math"
   ]
  },
  {
   "cell_type": "code",
   "execution_count": 3,
   "id": "41744690-30bb-4f30-b2dd-59eb24c42364",
   "metadata": {},
   "outputs": [],
   "source": [
    "def print_board(board):\n",
    "    for row in [board[i:i+3] for i in range(0, 9, 3)]:\n",
    "        print(\"|\".join(row))\n",
    "    print()"
   ]
  },
  {
   "cell_type": "code",
   "execution_count": 4,
   "id": "8b2f9491-307a-4497-b239-1b1288e34b22",
   "metadata": {},
   "outputs": [],
   "source": [
    "def check_winner(board):\n",
    "    win_patterns = [\n",
    "        (0, 1, 2), (3, 4, 5), (6, 7, 8),  # rows\n",
    "        (0, 3, 6), (1, 4, 7), (2, 5, 8),  # columns\n",
    "        (0, 4, 8), (2, 4, 6)              # diagonals\n",
    "    ]\n",
    "    for i, j, k in win_patterns:\n",
    "        if board[i] == board[j] == board[k] and board[i] != \" \":\n",
    "            return board[i]\n",
    "    if \" \" not in board:\n",
    "        return \"draw\"\n",
    "    return None"
   ]
  },
  {
   "cell_type": "code",
   "execution_count": 5,
   "id": "99917039-3ff7-4f85-bff3-c11b9c3b36c1",
   "metadata": {},
   "outputs": [],
   "source": [
    "def minimax(board, is_maximizing):\n",
    "    winner = check_winner(board)\n",
    "    if winner == \"O\": return 1\n",
    "    if winner == \"X\": return -1\n",
    "    if winner == \"draw\": return 0\n",
    "\n",
    "    if is_maximizing:\n",
    "        best_score = -math.inf\n",
    "        for i in range(9):\n",
    "            if board[i] == \" \":\n",
    "                board[i] = \"O\"\n",
    "                score = minimax(board, False)\n",
    "                board[i] = \" \"\n",
    "                best_score = max(score, best_score)\n",
    "        return best_score\n",
    "    else:\n",
    "        best_score = math.inf\n",
    "        for i in range(9):\n",
    "            if board[i] == \" \":\n",
    "                board[i] = \"X\"\n",
    "                score = minimax(board, True)\n",
    "                board[i] = \" \"\n",
    "                best_score = min(score, best_score)\n",
    "        return best_score"
   ]
  },
  {
   "cell_type": "code",
   "execution_count": 6,
   "id": "1b8288e0-b380-4b4f-8179-4306ec327cfe",
   "metadata": {},
   "outputs": [],
   "source": [
    "def best_move(board):\n",
    "    best_score = -math.inf\n",
    "    move = None\n",
    "    for i in range(9):\n",
    "        if board[i] == \" \":\n",
    "            board[i] = \"O\"\n",
    "            score = minimax(board, False)\n",
    "            board[i] = \" \"\n",
    "            if score > best_score:\n",
    "                best_score = score\n",
    "                move = i\n",
    "    return move"
   ]
  },
  {
   "cell_type": "code",
   "execution_count": 7,
   "id": "34ea1cbc-a9d9-4597-934d-8823e14ed4a0",
   "metadata": {},
   "outputs": [],
   "source": [
    "def play_game():\n",
    "    board = [\" \" for _ in range(9)]\n",
    "    print(\"Welcome to Tic Tac Toe! You are X, AI-Bot is O.\")\n",
    "    print_board(board)\n",
    "\n",
    "    while True:\n",
    "        # Player move\n",
    "        move = int(input(\"Enter your move (0-8): \"))\n",
    "        if board[move] != \" \":\n",
    "            print(\"Invalid move. Try again.\")\n",
    "            continue\n",
    "        board[move] = \"X\"\n",
    "        print_board(board)\n",
    "\n",
    "        result = check_winner(board)\n",
    "        if result:\n",
    "            print(\"Result:\", result)\n",
    "            break\n",
    "\n",
    "        # AI move\n",
    "        ai_move = best_move(board)\n",
    "        board[ai_move] = \"O\"\n",
    "        print(\"AI plays:\")\n",
    "        print_board(board)\n",
    "\n",
    "        result = check_winner(board)\n",
    "        if result:\n",
    "            print(\"Result:\", result)\n",
    "            break"
   ]
  },
  {
   "cell_type": "code",
   "execution_count": null,
   "id": "98b00ca4-8437-4a56-bb6b-72f81767ffd5",
   "metadata": {},
   "outputs": [],
   "source": [
    "# This is how the Tic-Tac-Toe Grid is aligned\n",
    "0 | 1 | 2\n",
    "3 | 4 | 5\n",
    "6 | 7 | 8"
   ]
  },
  {
   "cell_type": "code",
   "execution_count": 8,
   "id": "a6741a3a-7fac-4f0a-8b98-845f9578e7e9",
   "metadata": {},
   "outputs": [
    {
     "name": "stdout",
     "output_type": "stream",
     "text": [
      "Welcome to Tic Tac Toe! You are X, AI is O.\n",
      " | | \n",
      " | | \n",
      " | | \n",
      "\n"
     ]
    },
    {
     "name": "stdin",
     "output_type": "stream",
     "text": [
      "Enter your move (0-8):  8\n"
     ]
    },
    {
     "name": "stdout",
     "output_type": "stream",
     "text": [
      " | | \n",
      " | | \n",
      " | |X\n",
      "\n",
      "AI plays:\n",
      " | | \n",
      " |O| \n",
      " | |X\n",
      "\n"
     ]
    },
    {
     "name": "stdin",
     "output_type": "stream",
     "text": [
      "Enter your move (0-8):  5\n"
     ]
    },
    {
     "name": "stdout",
     "output_type": "stream",
     "text": [
      " | | \n",
      " |O|X\n",
      " | |X\n",
      "\n",
      "AI plays:\n",
      " | |O\n",
      " |O|X\n",
      " | |X\n",
      "\n"
     ]
    },
    {
     "name": "stdin",
     "output_type": "stream",
     "text": [
      "Enter your move (0-8):  6\n"
     ]
    },
    {
     "name": "stdout",
     "output_type": "stream",
     "text": [
      " | |O\n",
      " |O|X\n",
      "X| |X\n",
      "\n",
      "AI plays:\n",
      " | |O\n",
      " |O|X\n",
      "X|O|X\n",
      "\n"
     ]
    },
    {
     "name": "stdin",
     "output_type": "stream",
     "text": [
      "Enter your move (0-8):  1\n"
     ]
    },
    {
     "name": "stdout",
     "output_type": "stream",
     "text": [
      " |X|O\n",
      " |O|X\n",
      "X|O|X\n",
      "\n",
      "AI plays:\n",
      "O|X|O\n",
      " |O|X\n",
      "X|O|X\n",
      "\n"
     ]
    },
    {
     "name": "stdin",
     "output_type": "stream",
     "text": [
      "Enter your move (0-8):  3\n"
     ]
    },
    {
     "name": "stdout",
     "output_type": "stream",
     "text": [
      "O|X|O\n",
      "X|O|X\n",
      "X|O|X\n",
      "\n",
      "Result: draw\n"
     ]
    }
   ],
   "source": [
    "play_game()"
   ]
  },
  {
   "cell_type": "code",
   "execution_count": null,
   "id": "7272e755-320e-49bb-a00d-5ee9e2124ba6",
   "metadata": {},
   "outputs": [],
   "source": [
    "\n"
   ]
  }
 ],
 "metadata": {
  "kernelspec": {
   "display_name": "Python [conda env:base] *",
   "language": "python",
   "name": "conda-base-py"
  },
  "language_info": {
   "codemirror_mode": {
    "name": "ipython",
    "version": 3
   },
   "file_extension": ".py",
   "mimetype": "text/x-python",
   "name": "python",
   "nbconvert_exporter": "python",
   "pygments_lexer": "ipython3",
   "version": "3.11.7"
  }
 },
 "nbformat": 4,
 "nbformat_minor": 5
}
