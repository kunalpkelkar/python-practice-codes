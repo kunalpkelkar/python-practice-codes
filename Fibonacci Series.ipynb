{
 "cells": [
  {
   "cell_type": "code",
   "execution_count": null,
   "id": "2df4874b-674b-4d1d-9e2d-7123c393c744",
   "metadata": {},
   "outputs": [],
   "source": [
    "Fibonacci Series Generator"
   ]
  },
  {
   "cell_type": "code",
   "execution_count": 27,
   "id": "ae98f032-556a-42c1-a83a-b7bb7c97ea74",
   "metadata": {},
   "outputs": [
    {
     "name": "stdin",
     "output_type": "stream",
     "text": [
      "Enter the number of Fibonacci series to generate:  5\n"
     ]
    },
    {
     "name": "stdout",
     "output_type": "stream",
     "text": [
      "Fibonacci sequence: [0, 1, 1, 2, 3]\n"
     ]
    }
   ],
   "source": [
    "def fibbonacci_series(n):\n",
    "    fib_series = [0, 1]\n",
    "    if n <= 0:\n",
    "      print(\"Please enter a positive integer\")\n",
    "      return None\n",
    "    while len(fib_series) < n:\n",
    "        fib_series.append(fib_series[-1] + fib_series[-2])\n",
    "    return fib_series\n",
    "series = int(input(\"Enter the number of Fibonacci series to generate: \"))\n",
    "print(\"Fibonacci sequence:\", fibbonacci_series(series))"
   ]
  }
 ],
 "metadata": {
  "kernelspec": {
   "display_name": "Python 3 (ipykernel)",
   "language": "python",
   "name": "python3"
  },
  "language_info": {
   "codemirror_mode": {
    "name": "ipython",
    "version": 3
   },
   "file_extension": ".py",
   "mimetype": "text/x-python",
   "name": "python",
   "nbconvert_exporter": "python",
   "pygments_lexer": "ipython3",
   "version": "3.11.7"
  }
 },
 "nbformat": 4,
 "nbformat_minor": 5
}
