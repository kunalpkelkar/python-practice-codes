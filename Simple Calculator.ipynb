{
 "cells": [
  {
   "cell_type": "markdown",
   "id": "c6d99db2-35bb-4bed-a35d-2ee5901a17a2",
   "metadata": {},
   "source": [
    "#This is a code for simple calculator\n",
    "It requires 3 parameters two numbers to perform operation and the actual matematical operation"
   ]
  },
  {
   "cell_type": "code",
   "execution_count": 2,
   "id": "d7e87e7e-a820-4dee-a59a-6166206b2f72",
   "metadata": {},
   "outputs": [],
   "source": [
    "def calculator(num1,num2,operation):\n",
    "    if (num1 == 0 or num2 == 0):\n",
    "        print (\"Are you sure to perform this operation? Please provide correct inputs.\")\n",
    "    elif operation == '+':\n",
    "        print(num1 + num2)\n",
    "    elif operation == '-':\n",
    "        print(num1 - num2)\n",
    "    elif operation == '*':\n",
    "        print(num1 * num2)\n",
    "    elif operation == '/':\n",
    "            print(num1 / num2)\n",
    "    else:\n",
    "        print(\"Error: Unrecognized mathematical operation\")"
   ]
  },
  {
   "cell_type": "code",
   "execution_count": 3,
   "id": "64c764eb-9fc4-428e-9981-90fbc675b86c",
   "metadata": {},
   "outputs": [
    {
     "name": "stdout",
     "output_type": "stream",
     "text": [
      "0\n",
      "-40\n",
      "-400\n",
      "1.0\n",
      "Error: Unrecognized mathematical operation\n",
      "Are you sure to perform this operation? Please provide correct inputs.\n"
     ]
    }
   ],
   "source": [
    "calculator(num1=-20,num2=20,operation='+')\n",
    "calculator(num1=-20,num2=20,operation='-')\n",
    "calculator(num1=-20,num2=20,operation='*')\n",
    "calculator(num1=-20,num2=-20,operation='/')\n",
    "calculator(num1=-20,num2=20,operation='^')\n",
    "calculator(num1=0,num2=20,operation='^')"
   ]
  },
  {
   "cell_type": "code",
   "execution_count": null,
   "id": "eb592753-af11-4a06-adec-b03cbac9dedd",
   "metadata": {},
   "outputs": [],
   "source": []
  },
  {
   "cell_type": "code",
   "execution_count": null,
   "id": "c92a2755-9c92-4730-99e4-ce60c1c5e79e",
   "metadata": {},
   "outputs": [],
   "source": []
  }
 ],
 "metadata": {
  "kernelspec": {
   "display_name": "Python 3 (ipykernel)",
   "language": "python",
   "name": "python3"
  },
  "language_info": {
   "codemirror_mode": {
    "name": "ipython",
    "version": 3
   },
   "file_extension": ".py",
   "mimetype": "text/x-python",
   "name": "python",
   "nbconvert_exporter": "python",
   "pygments_lexer": "ipython3",
   "version": "3.11.7"
  }
 },
 "nbformat": 4,
 "nbformat_minor": 5
}
