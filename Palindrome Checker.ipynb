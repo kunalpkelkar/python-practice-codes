{
 "cells": [
  {
   "cell_type": "markdown",
   "id": "72a436c6-bded-4e7d-a210-093971b79f99",
   "metadata": {},
   "source": [
    "This code is used to check if is a palindrome.\n",
    "e.g. 121 is a palindrome number or TAT is also palindrome word\n"
   ]
  },
  {
   "cell_type": "code",
   "execution_count": null,
   "id": "ea44380d-741a-43b6-9707-b13b3d325ea2",
   "metadata": {},
   "outputs": [],
   "source": [
    "def is_palindrome(parameter):\n",
    "    return parameter == parameter[::-1]\n",
    "\n",
    "input_parameter = input(\"Enter a word/number to check if it's a palindrome: \")\n",
    "if is_palindrome(input_parameter):\n",
    "    print(\"Yes, it's a palindrome {}!\")\n",
    "else:\n",
    "    print(\"No, it's not a palindrome.\")"
   ]
  }
 ],
 "metadata": {
  "kernelspec": {
   "display_name": "Python 3 (ipykernel)",
   "language": "python",
   "name": "python3"
  },
  "language_info": {
   "codemirror_mode": {
    "name": "ipython",
    "version": 3
   },
   "file_extension": ".py",
   "mimetype": "text/x-python",
   "name": "python",
   "nbconvert_exporter": "python",
   "pygments_lexer": "ipython3",
   "version": "3.11.7"
  }
 },
 "nbformat": 4,
 "nbformat_minor": 5
}
