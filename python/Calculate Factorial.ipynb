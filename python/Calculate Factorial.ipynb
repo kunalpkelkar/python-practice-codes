{
 "cells": [
  {
   "cell_type": "markdown",
   "id": "e2561622-aeb4-4441-8aca-daafbec2837b",
   "metadata": {},
   "source": [
    "Calculate Factorial"
   ]
  },
  {
   "cell_type": "code",
   "execution_count": 1,
   "id": "62ceaf63-f229-4765-a1e5-04c1510e4f0f",
   "metadata": {},
   "outputs": [],
   "source": [
    "# This code is to calculate Factorial of a number "
   ]
  },
  {
   "cell_type": "code",
   "execution_count": 7,
   "id": "8943ad76-fedb-41d8-838c-25cda0c17847",
   "metadata": {},
   "outputs": [
    {
     "name": "stdin",
     "output_type": "stream",
     "text": [
      "Enter a number to calculate its factorial:  200\n"
     ]
    },
    {
     "name": "stdout",
     "output_type": "stream",
     "text": [
      "Factorial output to large !!!\n",
      "Factorial: None\n"
     ]
    }
   ],
   "source": [
    "def factorial(number):\n",
    "    if number == 0:\n",
    "        return 1\n",
    "    elif number > 14:\n",
    "        print(\"Factorial output is to large !!!\")\n",
    "        return None\n",
    "    elif number <0:\n",
    "        print(\"Factorial can be computed only for positive numbers !!!\")\n",
    "        return None    \n",
    "    else:\n",
    "        return number * factorial(number-1)\n",
    "\n",
    "factorial_output = int(input(\"Enter a number to calculate its factorial: \"))\n",
    "print(\"Factorial:\", factorial(factorial_output))"
   ]
  }
 ],
 "metadata": {
  "kernelspec": {
   "display_name": "Python [conda env:base] *",
   "language": "python",
   "name": "conda-base-py"
  },
  "language_info": {
   "codemirror_mode": {
    "name": "ipython",
    "version": 3
   },
   "file_extension": ".py",
   "mimetype": "text/x-python",
   "name": "python",
   "nbconvert_exporter": "python",
   "pygments_lexer": "ipython3",
   "version": "3.11.7"
  }
 },
 "nbformat": 4,
 "nbformat_minor": 5
}
