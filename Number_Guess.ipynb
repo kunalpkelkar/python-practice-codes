{
 "cells": [
  {
   "cell_type": "code",
   "execution_count": null,
   "id": "e91bf07e-40fc-49e1-8cd1-245047043de8",
   "metadata": {},
   "outputs": [],
   "source": [
    "import random\n",
    "\n",
    "def number_guessing_game():\n",
    "    print(\"Welcome to the Number Guessing Game!\")\n",
    "    print(\"Guess the number between 1 and 100.\")\n",
    "    \n",
    "    # Generate a random number between 1 and 100\n",
    "    secret_number = random.randint(1, 100)\n",
    "    attempts = 0\n",
    "    max_attempts = 10  # Set a limit for guesses\n",
    "    \n",
    "    while attempts < max_attempts:\n",
    "        try:\n",
    "            guess = int(input(\"Enter your guess: \"))\n",
    "        except ValueError:\n",
    "            print(\"Invalid input. Please enter a numeric value.\")\n",
    "            continue\n",
    "        \n",
    "        attempts += 1\n",
    "        \n",
    "        if guess < secret_number:\n",
    "            print(\"Too low! Try again.\")\n",
    "        elif guess > secret_number:\n",
    "            print(\"Too high! Try again.\")\n",
    "        else:\n",
    "            print(f\"Congratulations! You guessed the number in {attempts} attempts.\")\n",
    "            break\n",
    "    else:\n",
    "        print(f\"Sorry, you've used all {max_attempts} attempts. The correct number was {secret_number}.\")\n",
    "\n",
    "    play_again = input(\"Would you like to play again? (yes/no): \").lower()\n",
    "    if play_again == 'yes':\n",
    "        number_guessing_game()\n",
    "    else:\n",
    "        print(\"Thanks for playing! Goodbye.\")\n",
    "\n",
    "\n"
   ]
  },
  {
   "cell_type": "code",
   "execution_count": null,
   "id": "27b0c8b0-d396-4af8-b88d-ab13603cc19e",
   "metadata": {},
   "outputs": [],
   "source": [
    "number_guessing_game()"
   ]
  }
 ],
 "metadata": {
  "kernelspec": {
   "display_name": "Python 3 (ipykernel)",
   "language": "python",
   "name": "python3"
  },
  "language_info": {
   "codemirror_mode": {
    "name": "ipython",
    "version": 3
   },
   "file_extension": ".py",
   "mimetype": "text/x-python",
   "name": "python",
   "nbconvert_exporter": "python",
   "pygments_lexer": "ipython3",
   "version": "3.11.7"
  }
 },
 "nbformat": 4,
 "nbformat_minor": 5
}
