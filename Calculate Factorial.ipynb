{
 "cells": [
  {
   "cell_type": "markdown",
   "id": "e2561622-aeb4-4441-8aca-daafbec2837b",
   "metadata": {},
   "source": [
    "Calculate Factorial"
   ]
  },
  {
   "cell_type": "code",
   "execution_count": 39,
   "id": "8943ad76-fedb-41d8-838c-25cda0c17847",
   "metadata": {},
   "outputs": [
    {
     "name": "stdin",
     "output_type": "stream",
     "text": [
      "Enter a number to calculate its factorial:  14\n"
     ]
    },
    {
     "name": "stdout",
     "output_type": "stream",
     "text": [
      "Factorial: 87178291200\n"
     ]
    }
   ],
   "source": [
    "def factorial(number):\n",
    "    if number == 0:\n",
    "        return 1\n",
    "    elif number > 14:\n",
    "        print(\"Factorial output to large !!!\")\n",
    "        return None\n",
    "    else:\n",
    "        return number * factorial(number-1)\n",
    "\n",
    "factorial_output = int(input(\"Enter a number to calculate its factorial: \"))\n",
    "print(\"Factorial:\", factorial(factorial_output))"
   ]
  }
 ],
 "metadata": {
  "kernelspec": {
   "display_name": "Python 3 (ipykernel)",
   "language": "python",
   "name": "python3"
  },
  "language_info": {
   "codemirror_mode": {
    "name": "ipython",
    "version": 3
   },
   "file_extension": ".py",
   "mimetype": "text/x-python",
   "name": "python",
   "nbconvert_exporter": "python",
   "pygments_lexer": "ipython3",
   "version": "3.11.7"
  }
 },
 "nbformat": 4,
 "nbformat_minor": 5
}
