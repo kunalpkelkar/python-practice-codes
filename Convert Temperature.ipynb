{
 "cells": [
  {
   "cell_type": "markdown",
   "id": "afbb5de2-83e6-4067-b7ba-a946d5bfcd34",
   "metadata": {},
   "source": [
    "Convert Temperature"
   ]
  },
  {
   "cell_type": "code",
   "execution_count": null,
   "id": "80dcef14-6d65-48e9-a5a9-de54e0131db5",
   "metadata": {},
   "outputs": [],
   "source": [
    "def temp_conv():\n",
    "    choice = input(\"Enter '1' to convert Celsius to Fahrenheit, '2' to convert Fahrenheit to Celsius: \")\n",
    "    if choice != '1' and choice != '2':\n",
    "        print(\"Invalid choice.\")\n",
    "    elif choice == '1':\n",
    "        temp = float(input(\"Enter temperature to convert Celsius to Fahrenheit\"))\n",
    "        convert_temp =  (temp * 9/5) + 32\n",
    "        print(\"Temperature in Fahrenheit:\", convert_temp)\n",
    "    elif choice == '2':\n",
    "        temp = float(input(\"Enter temperature to convert Fahrenheit to Celsius \"))\n",
    "        convert_temp =  (temp - 32) * 5/9\n",
    "        print(\"Temperature in Celsius:\", convert_temp)\n",
    "temp_conv()"
   ]
  }
 ],
 "metadata": {
  "kernelspec": {
   "display_name": "Python 3 (ipykernel)",
   "language": "python",
   "name": "python3"
  },
  "language_info": {
   "codemirror_mode": {
    "name": "ipython",
    "version": 3
   },
   "file_extension": ".py",
   "mimetype": "text/x-python",
   "name": "python",
   "nbconvert_exporter": "python",
   "pygments_lexer": "ipython3",
   "version": "3.11.7"
  }
 },
 "nbformat": 4,
 "nbformat_minor": 5
}
